{
 "cells": [
  {
   "cell_type": "code",
   "execution_count": 2,
   "id": "78bc65ce",
   "metadata": {},
   "outputs": [],
   "source": [
    "import json\n",
    "from urllib.request import urlopen"
   ]
  },
  {
   "cell_type": "code",
   "execution_count": 5,
   "id": "13b31748",
   "metadata": {},
   "outputs": [],
   "source": [
    "url = 'https://api.beta.ons.gov.uk/v1/datasets?limit=5'\n",
    "\n",
    "formatter = 'https://codebeautify.org/jsonviewer#'"
   ]
  },
  {
   "cell_type": "code",
   "execution_count": 6,
   "id": "580f2df1",
   "metadata": {},
   "outputs": [],
   "source": [
    "url_result = urlopen(url)"
   ]
  },
  {
   "cell_type": "code",
   "execution_count": 7,
   "id": "12e8fe9f",
   "metadata": {},
   "outputs": [],
   "source": [
    "raw_data = url_result.read()"
   ]
  },
  {
   "cell_type": "code",
   "execution_count": 8,
   "id": "846f1815",
   "metadata": {},
   "outputs": [],
   "source": [
    "json_data = json.loads(raw_data)"
   ]
  },
  {
   "cell_type": "code",
   "execution_count": 9,
   "id": "af20f7f1",
   "metadata": {},
   "outputs": [],
   "source": [
    "json_string = json.dumps(json_data)"
   ]
  },
  {
   "cell_type": "code",
   "execution_count": 10,
   "id": "64effaec",
   "metadata": {},
   "outputs": [
    {
     "name": "stdout",
     "output_type": "stream",
     "text": [
      "{\"@context\": \"https://cdn.ons.gov.uk/assets/json-ld/context.json\", \"count\": 5, \"items\": [{\"contacts\": [{\"email\": \"qualityoflife@ons.gov.uk\", \"name\": \"Rachel Mullis, Emily Froud and Geeta Kerai\", \"telephone\": \"+44 300 0671543\"}], \"description\": \"Seasonally and non seasonally-adjusted quarterly estimates of life satisfaction, feeling that the things done in life are worthwhile, happiness and anxiety in the UK.\", \"id\": \"wellbeing-quarterly\", \"keywords\": [\"well-being\"], \"links\": {\"editions\": {\"href\": \"https://api.beta.ons.gov.uk/v1/datasets/wellbeing-quarterly/editions\"}, \"latest_version\": {\"href\": \"https://api.beta.ons.gov.uk/v1/datasets/wellbeing-quarterly/editions/time-series/versions/8\", \"id\": \"8\"}, \"self\": {\"href\": \"https://api.beta.ons.gov.uk/v1/datasets/wellbeing-quarterly\"}, \"taxonomy\": {\"href\": \"https://api.beta.ons.gov.uk/v1/peoplepopulationandcommunity/wellbeing\"}}, \"methodologies\": [{\"href\": \"https://www.ons.gov.uk/peoplepopulationandcommunity/wellbeing/methodologies/personalwellbeingquarterlyestimatestechnicalreport\", \"title\": \"Personal well-being quarterly estimates technical report\"}], \"national_statistic\": false, \"next_release\": \"TBC\", \"qmi\": {\"href\": \"https://www.ons.gov.uk/peoplepopulationandcommunity/wellbeing/methodologies/personalwellbeingintheukqmi\"}, \"related_datasets\": [{\"href\": \"https://www.ons.gov.uk/peoplepopulationandcommunity/wellbeing/bulletins/personalwellbeingintheukquarterly/april2011toseptember2021/relateddata\", \"title\": \"Quality of life in the UK\"}], \"release_frequency\": \"Quarterly\", \"state\": \"published\", \"title\": \"Quarterly personal well-being estimates\", \"unit_of_measure\": \"Percentage\"}, {\"contacts\": [{\"email\": \"QualityOfLife@ons.gov.uk\", \"name\": \"Ben Hayes, Charlotte Leach and Geeta Kerai\", \"telephone\": \"+44 3000 671 543\"}], \"description\": \"Estimates of life satisfaction, feeling that the things done in life are worthwhile, happiness and anxiety at the UK, country, regional, county, local and unitary authority level.\", \"id\": \"wellbeing-local-authority\", \"keywords\": [\"well-being\"], \"links\": {\"editions\": {\"href\": \"https://api.beta.ons.gov.uk/v1/datasets/wellbeing-local-authority/editions\"}, \"latest_version\": {\"href\": \"https://api.beta.ons.gov.uk/v1/datasets/wellbeing-local-authority/editions/time-series/versions/3\", \"id\": \"3\"}, \"self\": {\"href\": \"https://api.beta.ons.gov.uk/v1/datasets/wellbeing-local-authority\"}, \"taxonomy\": {\"href\": \"https://api.beta.ons.gov.uk/v1/peoplepopulationandcommunity/wellbeing\"}}, \"national_statistic\": true, \"next_release\": \"TBC\", \"qmi\": {\"href\": \"https://www.ons.gov.uk/peoplepopulationandcommunity/wellbeing/methodologies/personalwellbeingintheukqmi\"}, \"related_datasets\": [{\"href\": \"https://www.ons.gov.uk/peoplepopulationandcommunity/wellbeing/bulletins/measuringnationalwellbeing/april2021tomarch2022\", \"title\": \"Personal well-being in the UK: April 2021 to March 2022\"}], \"release_frequency\": \"Annual\", \"state\": \"published\", \"title\": \"Personal well-being estimates by local authority\", \"unit_of_measure\": \"Percentage\"}, {\"contacts\": [{\"email\": \"health.data@ons.gov.uk\", \"name\": \"Sarah Caul\", \"telephone\": \"+44 1329 444110\"}], \"description\": \"Provisional counts of the number of deaths registered in England and Wales, by region, in the latest weeks for which data are available.\", \"id\": \"weekly-deaths-region\", \"keywords\": [\"Deaths\", \"weekly deaths\"], \"links\": {\"editions\": {\"href\": \"https://api.beta.ons.gov.uk/v1/datasets/weekly-deaths-region/editions\"}, \"latest_version\": {\"href\": \"https://api.beta.ons.gov.uk/v1/datasets/weekly-deaths-region/editions/covid-19/versions/163\", \"id\": \"163\"}, \"self\": {\"href\": \"https://api.beta.ons.gov.uk/v1/datasets/weekly-deaths-region\"}, \"taxonomy\": {\"href\": \"https://api.beta.ons.gov.uk/v1/peoplepopulationandcommunity/birthsdeathsandmarriages/deaths\"}}, \"national_statistic\": true, \"next_release\": \"21 November 2023\", \"qmi\": {\"href\": \"https://www.ons.gov.uk/peoplepopulationandcommunity/birthsdeathsandmarriages/deaths/methodologies/mortalitystatisticsinenglandandwalesqmi\"}, \"release_frequency\": \"Weekly\", \"state\": \"published\", \"title\": \"Deaths registered weekly in England and Wales by region\"}, {\"contacts\": [{\"email\": \"health.data@ons.gov.uk\", \"name\": \"Sarah Caul\", \"telephone\": \"+44 1329 444110\"}], \"description\": \"Provisional counts of the number of deaths registered in England and Wales, including deaths involving the coronavirus (COVID-19), by local authority, health board and place of death in the latest weeks for which data are available.\", \"id\": \"weekly-deaths-local-authority\", \"keywords\": [\"Deaths\", \"weekly deaths\"], \"links\": {\"editions\": {\"href\": \"https://api.beta.ons.gov.uk/v1/datasets/weekly-deaths-local-authority/editions\"}, \"latest_version\": {\"href\": \"https://api.beta.ons.gov.uk/v1/datasets/weekly-deaths-local-authority/editions/2023/versions/44\", \"id\": \"44\"}, \"self\": {\"href\": \"https://api.beta.ons.gov.uk/v1/datasets/weekly-deaths-local-authority\"}, \"taxonomy\": {\"href\": \"https://api.beta.ons.gov.uk/v1/peoplepopulationandcommunity/birthsdeathsandmarriages/deaths\"}}, \"national_statistic\": true, \"next_release\": \"21 November 2023\", \"qmi\": {\"href\": \"https://www.ons.gov.uk/peoplepopulationandcommunity/birthsdeathsandmarriages/deaths/methodologies/mortalitystatisticsinenglandandwalesqmi\"}, \"release_frequency\": \"Weekly\", \"state\": \"published\", \"title\": \"Death registrations and occurrences by local authority and place of death\"}, {\"contacts\": [{\"email\": \"health.data@ons.gov.uk\", \"name\": \"Sarah Caul\", \"telephone\": \"+44 1329 444110\"}], \"description\": \"Provisional counts of the number of deaths registered in Wales, by health board and place of death, in the latest weeks for which data are available.\", \"id\": \"weekly-deaths-health-board\", \"keywords\": [\"Deaths\", \"weekly deaths\"], \"links\": {\"editions\": {\"href\": \"https://api.beta.ons.gov.uk/v1/datasets/weekly-deaths-health-board/editions\"}, \"latest_version\": {\"href\": \"https://api.beta.ons.gov.uk/v1/datasets/weekly-deaths-health-board/editions/2023/versions/44\", \"id\": \"44\"}, \"self\": {\"href\": \"https://api.beta.ons.gov.uk/v1/datasets/weekly-deaths-health-board\"}, \"taxonomy\": {\"href\": \"https://api.beta.ons.gov.uk/v1/peoplepopulationandcommunity/birthsdeathsandmarriages/deaths\"}}, \"national_statistic\": true, \"next_release\": \"21 November 2023\", \"qmi\": {\"href\": \"https://www.ons.gov.uk/peoplepopulationandcommunity/birthsdeathsandmarriages/deaths/methodologies/mortalitystatisticsinenglandandwalesqmi\"}, \"release_frequency\": \"Weekly\", \"state\": \"published\", \"title\": \"Death registrations and occurrences by health board and place of death\"}], \"limit\": 5, \"offset\": 0, \"total_count\": 337}\n"
     ]
    }
   ],
   "source": [
    "print(json_string)"
   ]
  },
  {
   "cell_type": "code",
   "execution_count": 12,
   "id": "31f2c6b1",
   "metadata": {},
   "outputs": [
    {
     "name": "stdout",
     "output_type": "stream",
     "text": [
      "https://cdn.ons.gov.uk/assets/json-ld/context.json\n"
     ]
    }
   ],
   "source": [
    "print(json_data[\"@context\"])"
   ]
  },
  {
   "cell_type": "code",
   "execution_count": 13,
   "id": "58862ec2",
   "metadata": {},
   "outputs": [
    {
     "name": "stdout",
     "output_type": "stream",
     "text": [
      "{'contacts': [{'email': 'qualityoflife@ons.gov.uk', 'name': 'Rachel Mullis, Emily Froud and Geeta Kerai', 'telephone': '+44 300 0671543'}], 'description': 'Seasonally and non seasonally-adjusted quarterly estimates of life satisfaction, feeling that the things done in life are worthwhile, happiness and anxiety in the UK.', 'id': 'wellbeing-quarterly', 'keywords': ['well-being'], 'links': {'editions': {'href': 'https://api.beta.ons.gov.uk/v1/datasets/wellbeing-quarterly/editions'}, 'latest_version': {'href': 'https://api.beta.ons.gov.uk/v1/datasets/wellbeing-quarterly/editions/time-series/versions/8', 'id': '8'}, 'self': {'href': 'https://api.beta.ons.gov.uk/v1/datasets/wellbeing-quarterly'}, 'taxonomy': {'href': 'https://api.beta.ons.gov.uk/v1/peoplepopulationandcommunity/wellbeing'}}, 'methodologies': [{'href': 'https://www.ons.gov.uk/peoplepopulationandcommunity/wellbeing/methodologies/personalwellbeingquarterlyestimatestechnicalreport', 'title': 'Personal well-being quarterly estimates technical report'}], 'national_statistic': False, 'next_release': 'TBC', 'qmi': {'href': 'https://www.ons.gov.uk/peoplepopulationandcommunity/wellbeing/methodologies/personalwellbeingintheukqmi'}, 'related_datasets': [{'href': 'https://www.ons.gov.uk/peoplepopulationandcommunity/wellbeing/bulletins/personalwellbeingintheukquarterly/april2011toseptember2021/relateddata', 'title': 'Quality of life in the UK'}], 'release_frequency': 'Quarterly', 'state': 'published', 'title': 'Quarterly personal well-being estimates', 'unit_of_measure': 'Percentage'}\n"
     ]
    }
   ],
   "source": [
    "print(json_data[\"items\"][0])"
   ]
  },
  {
   "cell_type": "code",
   "execution_count": 14,
   "id": "2b8b0b0a",
   "metadata": {},
   "outputs": [
    {
     "name": "stdout",
     "output_type": "stream",
     "text": [
      "{'contacts': [{'email': 'QualityOfLife@ons.gov.uk', 'name': 'Ben Hayes, Charlotte Leach and Geeta Kerai', 'telephone': '+44 3000 671 543'}], 'description': 'Estimates of life satisfaction, feeling that the things done in life are worthwhile, happiness and anxiety at the UK, country, regional, county, local and unitary authority level.', 'id': 'wellbeing-local-authority', 'keywords': ['well-being'], 'links': {'editions': {'href': 'https://api.beta.ons.gov.uk/v1/datasets/wellbeing-local-authority/editions'}, 'latest_version': {'href': 'https://api.beta.ons.gov.uk/v1/datasets/wellbeing-local-authority/editions/time-series/versions/3', 'id': '3'}, 'self': {'href': 'https://api.beta.ons.gov.uk/v1/datasets/wellbeing-local-authority'}, 'taxonomy': {'href': 'https://api.beta.ons.gov.uk/v1/peoplepopulationandcommunity/wellbeing'}}, 'national_statistic': True, 'next_release': 'TBC', 'qmi': {'href': 'https://www.ons.gov.uk/peoplepopulationandcommunity/wellbeing/methodologies/personalwellbeingintheukqmi'}, 'related_datasets': [{'href': 'https://www.ons.gov.uk/peoplepopulationandcommunity/wellbeing/bulletins/measuringnationalwellbeing/april2021tomarch2022', 'title': 'Personal well-being in the UK: April 2021 to March 2022'}], 'release_frequency': 'Annual', 'state': 'published', 'title': 'Personal well-being estimates by local authority', 'unit_of_measure': 'Percentage'}\n"
     ]
    }
   ],
   "source": [
    "print(json_data[\"items\"][1])"
   ]
  },
  {
   "cell_type": "code",
   "execution_count": 20,
   "id": "d000fbc3",
   "metadata": {},
   "outputs": [
    {
     "data": {
      "text/plain": [
       "{'contacts': [{'email': 'qualityoflife@ons.gov.uk',\n",
       "   'name': 'Rachel Mullis, Emily Froud and Geeta Kerai',\n",
       "   'telephone': '+44 300 0671543'}],\n",
       " 'description': 'Seasonally and non seasonally-adjusted quarterly estimates of life satisfaction, feeling that the things done in life are worthwhile, happiness and anxiety in the UK.',\n",
       " 'id': 'wellbeing-quarterly',\n",
       " 'keywords': ['well-being'],\n",
       " 'links': {'editions': {'href': 'https://api.beta.ons.gov.uk/v1/datasets/wellbeing-quarterly/editions'},\n",
       "  'latest_version': {'href': 'https://api.beta.ons.gov.uk/v1/datasets/wellbeing-quarterly/editions/time-series/versions/8',\n",
       "   'id': '8'},\n",
       "  'self': {'href': 'https://api.beta.ons.gov.uk/v1/datasets/wellbeing-quarterly'},\n",
       "  'taxonomy': {'href': 'https://api.beta.ons.gov.uk/v1/peoplepopulationandcommunity/wellbeing'}},\n",
       " 'methodologies': [{'href': 'https://www.ons.gov.uk/peoplepopulationandcommunity/wellbeing/methodologies/personalwellbeingquarterlyestimatestechnicalreport',\n",
       "   'title': 'Personal well-being quarterly estimates technical report'}],\n",
       " 'national_statistic': False,\n",
       " 'next_release': 'TBC',\n",
       " 'qmi': {'href': 'https://www.ons.gov.uk/peoplepopulationandcommunity/wellbeing/methodologies/personalwellbeingintheukqmi'},\n",
       " 'related_datasets': [{'href': 'https://www.ons.gov.uk/peoplepopulationandcommunity/wellbeing/bulletins/personalwellbeingintheukquarterly/april2011toseptember2021/relateddata',\n",
       "   'title': 'Quality of life in the UK'}],\n",
       " 'release_frequency': 'Quarterly',\n",
       " 'state': 'published',\n",
       " 'title': 'Quarterly personal well-being estimates',\n",
       " 'unit_of_measure': 'Percentage'}"
      ]
     },
     "execution_count": 20,
     "metadata": {},
     "output_type": "execute_result"
    }
   ],
   "source": [
    "results = json_data[\"items\"]\n",
    "\n",
    "first_record = results[0]\n",
    "\n",
    "first_record "
   ]
  },
  {
   "cell_type": "code",
   "execution_count": 28,
   "id": "3c189db1",
   "metadata": {},
   "outputs": [],
   "source": [
    "contacts = first_record['contacts']\n",
    "description = first_record['description']\n",
    "id_ = first_record['id']\n",
    "title = first_record['title']\n",
    "release_frequency = first_record['release_frequency']\n",
    "unit_of_measure = first_record['unit_of_measure']\n"
   ]
  },
  {
   "cell_type": "code",
   "execution_count": 29,
   "id": "3e091ddd",
   "metadata": {},
   "outputs": [
    {
     "name": "stdout",
     "output_type": "stream",
     "text": [
      "[{'email': 'qualityoflife@ons.gov.uk', 'name': 'Rachel Mullis, Emily Froud and Geeta Kerai', 'telephone': '+44 300 0671543'}]\n",
      "Seasonally and non seasonally-adjusted quarterly estimates of life satisfaction, feeling that the things done in life are worthwhile, happiness and anxiety in the UK.\n",
      "wellbeing-quarterly\n",
      "Quarterly personal well-being estimates\n",
      "Quarterly\n",
      "Percentage\n"
     ]
    }
   ],
   "source": [
    "print(contacts )\n",
    "print(description )\n",
    "print(id_  )\n",
    "print(title )\n",
    "print(release_frequency )\n",
    "print(unit_of_measure )"
   ]
  },
  {
   "cell_type": "code",
   "execution_count": 33,
   "id": "5675235d",
   "metadata": {},
   "outputs": [
    {
     "name": "stdout",
     "output_type": "stream",
     "text": [
      "[[[{'email': 'qualityoflife@ons.gov.uk', 'name': 'Rachel Mullis, Emily Froud and Geeta Kerai', 'telephone': '+44 300 0671543'}], 'Seasonally and non seasonally-adjusted quarterly estimates of life satisfaction, feeling that the things done in life are worthwhile, happiness and anxiety in the UK.', 'wellbeing-quarterly', 'Quarterly personal well-being estimates', 'Quarterly'], [[{'email': 'QualityOfLife@ons.gov.uk', 'name': 'Ben Hayes, Charlotte Leach and Geeta Kerai', 'telephone': '+44 3000 671 543'}], 'Estimates of life satisfaction, feeling that the things done in life are worthwhile, happiness and anxiety at the UK, country, regional, county, local and unitary authority level.', 'wellbeing-local-authority', 'Personal well-being estimates by local authority', 'Annual'], [[{'email': 'health.data@ons.gov.uk', 'name': 'Sarah Caul', 'telephone': '+44 1329 444110'}], 'Provisional counts of the number of deaths registered in England and Wales, by region, in the latest weeks for which data are available.', 'weekly-deaths-region', 'Deaths registered weekly in England and Wales by region', 'Weekly'], [[{'email': 'health.data@ons.gov.uk', 'name': 'Sarah Caul', 'telephone': '+44 1329 444110'}], 'Provisional counts of the number of deaths registered in England and Wales, including deaths involving the coronavirus (COVID-19), by local authority, health board and place of death in the latest weeks for which data are available.', 'weekly-deaths-local-authority', 'Death registrations and occurrences by local authority and place of death', 'Weekly'], [[{'email': 'health.data@ons.gov.uk', 'name': 'Sarah Caul', 'telephone': '+44 1329 444110'}], 'Provisional counts of the number of deaths registered in Wales, by health board and place of death, in the latest weeks for which data are available.', 'weekly-deaths-health-board', 'Death registrations and occurrences by health board and place of death', 'Weekly']]\n"
     ]
    }
   ],
   "source": [
    "records_data = []\n",
    "\n",
    "for record in results:\n",
    "    record_data = [\n",
    "        record['contacts'],\n",
    "        record['description'],\n",
    "        record['id'],\n",
    "        record['title'],\n",
    "        record['release_frequency']\n",
    "    \n",
    "    ]\n",
    "    records_data.append(record_data)\n",
    "    \n",
    "print(records_data)"
   ]
  },
  {
   "cell_type": "code",
   "execution_count": 38,
   "id": "151f729f",
   "metadata": {},
   "outputs": [],
   "source": [
    "file_name = 'national_stats_dataset.csv'\n",
    "f = open(file_name, 'w')\n",
    "\n",
    "headers = 'contacts,description,id,title,release_frequency\\n'\n",
    "f.write(headers)\n",
    "\n",
    "for record in results:\n",
    "    row_string = ''\n",
    "    row_string += str(record['contacts']) + ','\n",
    "    row_string += record['description'] + ',' \n",
    "    row_string += record['id'] + ','\n",
    "    row_string += record['title'] + ','\n",
    "    row_string += record['release_frequency'] + '\\n'\n",
    "    f.write(row_string)\n"
   ]
  },
  {
   "cell_type": "code",
   "execution_count": null,
   "id": "6d040bd1",
   "metadata": {},
   "outputs": [],
   "source": []
  }
 ],
 "metadata": {
  "hide_input": false,
  "kernelspec": {
   "display_name": "Python 3 (ipykernel)",
   "language": "python",
   "name": "python3"
  },
  "language_info": {
   "codemirror_mode": {
    "name": "ipython",
    "version": 3
   },
   "file_extension": ".py",
   "mimetype": "text/x-python",
   "name": "python",
   "nbconvert_exporter": "python",
   "pygments_lexer": "ipython3",
   "version": "3.9.7"
  }
 },
 "nbformat": 4,
 "nbformat_minor": 5
}
